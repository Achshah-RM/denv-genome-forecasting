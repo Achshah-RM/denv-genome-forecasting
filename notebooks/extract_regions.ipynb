{
 "cells": [
  {
   "cell_type": "markdown",
   "id": "d4921248-28a9-4af4-a878-dd0080bd00a4",
   "metadata": {},
   "source": [
    "# Extract Specific Regions from GenBank\n",
    "Extract only those sequences that have all three regions annotated: E, 5′UTR, 3′UTR."
   ]
  },
  {
   "cell_type": "markdown",
   "id": "81c2ecab-d1cc-4422-a90c-fc7b7041cf28",
   "metadata": {},
   "source": [
    "### Import required libraries"
   ]
  },
  {
   "cell_type": "code",
   "execution_count": 1,
   "id": "49b7d41f-7eca-41ec-b57e-0def4241e1ea",
   "metadata": {},
   "outputs": [],
   "source": [
    "from Bio import SeqIO\n",
    "import pandas as pd\n",
    "import re"
   ]
  },
  {
   "cell_type": "markdown",
   "id": "5a2bb539-cf7c-45e4-874a-fc78c86c7a33",
   "metadata": {},
   "source": [
    "### Setup"
   ]
  },
  {
   "cell_type": "code",
   "execution_count": 2,
   "id": "db86f6b1-cd59-4700-8e90-5f6fe620b521",
   "metadata": {},
   "outputs": [],
   "source": [
    "# Path to GenBank file\n",
    "gb_path = \"../data/indian_denv_genomes.gb\"\n",
    "\n",
    "# Store extracted data\n",
    "extracted = []"
   ]
  },
  {
   "cell_type": "markdown",
   "id": "f336b6f1-ee1b-4ddb-9f59-50eae2052a06",
   "metadata": {},
   "source": [
    "### Define Extraction Logic"
   ]
  },
  {
   "cell_type": "code",
   "execution_count": 3,
   "id": "327669b3-390e-40cc-8875-1b830cddf38e",
   "metadata": {},
   "outputs": [],
   "source": [
    "def extract_year(record):\n",
    "    # Try collection_date first\n",
    "    try:\n",
    "        for feature in record.features:\n",
    "            if feature.type == \"source\" and \"collection_date\" in feature.qualifiers:\n",
    "                return re.findall(r\"\\d{4}\", feature.qualifiers[\"collection_date\"][0])[0]\n",
    "    except:\n",
    "        pass\n",
    "\n",
    "    # Fallback: Try reference journal year\n",
    "    try:\n",
    "        journal = record.annotations['references'][0].journal\n",
    "        return re.findall(r\"\\d{4}\", journal)[0]\n",
    "    except:\n",
    "        return None"
   ]
  },
  {
   "cell_type": "markdown",
   "id": "d2422b6a-a92c-4138-b5c2-dbee9b726b21",
   "metadata": {},
   "source": [
    "### Parse and Extract Regions"
   ]
  },
  {
   "cell_type": "code",
   "execution_count": 4,
   "id": "19c6eb35-202a-4b7c-b881-4a2980623243",
   "metadata": {},
   "outputs": [],
   "source": [
    "for record in SeqIO.parse(gb_path, \"genbank\"):\n",
    "    accession = record.id\n",
    "    year = extract_year(record)\n",
    "\n",
    "    e_seq, utr5_seq, utr3_seq = None, None, None\n",
    "\n",
    "    for feature in record.features:\n",
    "        if feature.type == \"CDS\" and \"gene\" in feature.qualifiers and \"E\" in feature.qualifiers[\"gene\"]:\n",
    "            e_seq = str(feature.extract(record.seq))\n",
    "        elif feature.type == \"5'UTR\":\n",
    "            utr5_seq = str(feature.extract(record.seq))\n",
    "        elif feature.type == \"3'UTR\":\n",
    "            utr3_seq = str(feature.extract(record.seq))\n",
    "\n",
    "    if e_seq and utr5_seq and utr3_seq:\n",
    "        combined_seq = utr5_seq + e_seq + utr3_seq\n",
    "        extracted.append((accession, year, combined_seq))"
   ]
  },
  {
   "cell_type": "code",
   "execution_count": 7,
   "id": "3e5cb52a-7e9e-44be-bb53-256cb413beab",
   "metadata": {},
   "outputs": [],
   "source": [
    "for record in SeqIO.parse(gb_path, \"genbank\"):\n",
    "    accession = record.id\n",
    "    year = extract_year(record)\n",
    "\n",
    "    seq = record.seq\n",
    "    full_length = len(seq)\n",
    "\n",
    "    utr5_seq = str(seq[0:95])  # 5′UTR\n",
    "    e_seq = str(seq[937:2406])  # E gene\n",
    "    utr3_seq = str(seq[10272:full_length])  # 3′UTR\n",
    "\n",
    "    if len(utr5_seq) > 0 and len(e_seq) > 0 and len(utr3_seq) > 0:\n",
    "        combined_seq = utr5_seq + e_seq + utr3_seq\n",
    "        extracted.append((accession, year, combined_seq))"
   ]
  },
  {
   "cell_type": "markdown",
   "id": "a29e44d1-9097-423a-91cf-1b63b4298932",
   "metadata": {},
   "source": [
    "### Save as CSV"
   ]
  },
  {
   "cell_type": "code",
   "execution_count": 8,
   "id": "953f3a64-20bf-4bf9-9b39-f053eb5e66ec",
   "metadata": {},
   "outputs": [
    {
     "name": "stdout",
     "output_type": "stream",
     "text": [
      "404 sequences with all three regions extracted and saved.\n"
     ]
    }
   ],
   "source": [
    "df = pd.DataFrame(extracted, columns=[\"Accession\", \"Collection_Year\", \"Combined_Sequence\"])\n",
    "df.to_csv(\"../data/extracted_sequences.csv\", index=False)\n",
    "print(f\"{len(df)} sequences with all three regions extracted and saved.\")"
   ]
  },
  {
   "cell_type": "markdown",
   "id": "df80b05f-312a-453d-81bc-1bbe1a14bc9a",
   "metadata": {},
   "source": [
    "### Data Quality Check"
   ]
  },
  {
   "cell_type": "code",
   "execution_count": 9,
   "id": "c3251c8b-a2eb-46e6-929b-55067985bf5b",
   "metadata": {},
   "outputs": [
    {
     "data": {
      "text/html": [
       "<div>\n",
       "<style scoped>\n",
       "    .dataframe tbody tr th:only-of-type {\n",
       "        vertical-align: middle;\n",
       "    }\n",
       "\n",
       "    .dataframe tbody tr th {\n",
       "        vertical-align: top;\n",
       "    }\n",
       "\n",
       "    .dataframe thead th {\n",
       "        text-align: right;\n",
       "    }\n",
       "</style>\n",
       "<table border=\"1\" class=\"dataframe\">\n",
       "  <thead>\n",
       "    <tr style=\"text-align: right;\">\n",
       "      <th></th>\n",
       "      <th>Accession</th>\n",
       "      <th>Collection_Year</th>\n",
       "      <th>Combined_Sequence</th>\n",
       "    </tr>\n",
       "  </thead>\n",
       "  <tbody>\n",
       "    <tr>\n",
       "      <th>0</th>\n",
       "      <td>PV554916.1</td>\n",
       "      <td>2024</td>\n",
       "      <td>GACAAAGACAGATTCTTTGAGGAAGCTAAGCTTAACGTAGTTCTAA...</td>\n",
       "    </tr>\n",
       "    <tr>\n",
       "      <th>1</th>\n",
       "      <td>PV554917.1</td>\n",
       "      <td>2024</td>\n",
       "      <td>GACAAAGACAGATTCTTTGAGGAAGCTAAGCTTAACGTAGTTCTAA...</td>\n",
       "    </tr>\n",
       "    <tr>\n",
       "      <th>2</th>\n",
       "      <td>PV554918.1</td>\n",
       "      <td>2024</td>\n",
       "      <td>CCGACAAAGACAGATTCTTTGAGGAAGCTAAGCTTAACGTAGTTCT...</td>\n",
       "    </tr>\n",
       "    <tr>\n",
       "      <th>3</th>\n",
       "      <td>PV554919.1</td>\n",
       "      <td>2024</td>\n",
       "      <td>GACAAGAACAGTTTCGACTCGGAAGCTTGCTTAACGTAGTGCTAAC...</td>\n",
       "    </tr>\n",
       "    <tr>\n",
       "      <th>4</th>\n",
       "      <td>PV554920.1</td>\n",
       "      <td>2024</td>\n",
       "      <td>GACAAAGACAGATTCTTTGAGGAAGCTAAGCTTAACGTAGTTCTAA...</td>\n",
       "    </tr>\n",
       "  </tbody>\n",
       "</table>\n",
       "</div>"
      ],
      "text/plain": [
       "    Accession Collection_Year  \\\n",
       "0  PV554916.1            2024   \n",
       "1  PV554917.1            2024   \n",
       "2  PV554918.1            2024   \n",
       "3  PV554919.1            2024   \n",
       "4  PV554920.1            2024   \n",
       "\n",
       "                                   Combined_Sequence  \n",
       "0  GACAAAGACAGATTCTTTGAGGAAGCTAAGCTTAACGTAGTTCTAA...  \n",
       "1  GACAAAGACAGATTCTTTGAGGAAGCTAAGCTTAACGTAGTTCTAA...  \n",
       "2  CCGACAAAGACAGATTCTTTGAGGAAGCTAAGCTTAACGTAGTTCT...  \n",
       "3  GACAAGAACAGTTTCGACTCGGAAGCTTGCTTAACGTAGTGCTAAC...  \n",
       "4  GACAAAGACAGATTCTTTGAGGAAGCTAAGCTTAACGTAGTTCTAA...  "
      ]
     },
     "execution_count": 9,
     "metadata": {},
     "output_type": "execute_result"
    }
   ],
   "source": [
    "df.head(5)"
   ]
  },
  {
   "cell_type": "code",
   "execution_count": 10,
   "id": "58c14b76-18a2-4d1e-8b0f-67a348cf7063",
   "metadata": {},
   "outputs": [
    {
     "name": "stdout",
     "output_type": "stream",
     "text": [
      "count     404.000000\n",
      "mean     1921.334158\n",
      "std        90.222360\n",
      "min      1577.000000\n",
      "25%      1861.750000\n",
      "50%      1949.000000\n",
      "75%      1998.250000\n",
      "max      2056.000000\n",
      "Name: Length, dtype: float64\n"
     ]
    },
    {
     "data": {
      "text/plain": [
       "<Axes: >"
      ]
     },
     "execution_count": 10,
     "metadata": {},
     "output_type": "execute_result"
    },
    {
     "data": {
      "image/png": "[encoded data removed]",
      "text/plain": [
       "<Figure size 640x480 with 1 Axes>"
      ]
     },
     "metadata": {},
     "output_type": "display_data"
    }
   ],
   "source": [
    "df[\"Length\"] = df[\"Combined_Sequence\"].apply(len)\n",
    "print(df[\"Length\"].describe())\n",
    "df[\"Length\"].hist(bins=30)"
   ]
  },
  {
   "cell_type": "markdown",
   "id": "287735d2-8b17-44a3-a234-6e5ee5d7ed69",
   "metadata": {},
   "source": [
    "## Conclusion\n",
    "Extracted dataset is clean and ready for alignment with environmental data."
   ]
  }
 ],
 "metadata": {
  "kernelspec": {
   "display_name": "Python 3 (ipykernel)",
   "language": "python",
   "name": "python3"
  },
  "language_info": {
   "codemirror_mode": {
    "name": "ipython",
    "version": 3
   },
   "file_extension": ".py",
   "mimetype": "text/x-python",
   "name": "python",
   "nbconvert_exporter": "python",
   "pygments_lexer": "ipython3",
   "version": "3.12.4"
  }
 },
 "nbformat": 4,
 "nbformat_minor": 5
}
