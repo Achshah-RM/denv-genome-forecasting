{
 "cells": [
  {
   "cell_type": "markdown",
   "id": "1e4006dc-7c0f-498b-85dc-f3b833f7d6c5",
   "metadata": {},
   "source": [
    "# Systematically Merge Environmental and Genome Sequence Data\n",
    "Combine extracted_sequences.csv and delhi_env_1960_2024.csv to produce combined_dataset.csv containing:\n",
    "\n",
    "- Accession\n",
    "- Collection_Year\n",
    "- Combined_Sequence\n",
    "- Avg_Temp_C\n",
    "- CO2_Emission_Mt"
   ]
  },
  {
   "cell_type": "markdown",
   "id": "f0734e58-725e-4b83-ba62-4006bb0ddf69",
   "metadata": {},
   "source": [
    "### Import required libraries"
   ]
  },
  {
   "cell_type": "code",
   "execution_count": 1,
   "id": "0878d959-bfe7-452f-99fa-2645e2f2d831",
   "metadata": {},
   "outputs": [],
   "source": [
    "import pandas as pd"
   ]
  },
  {
   "cell_type": "markdown",
   "id": "87d1a661-711a-4e2c-a462-86b158dc2c2e",
   "metadata": {},
   "source": [
    "### Load data"
   ]
  },
  {
   "cell_type": "code",
   "execution_count": 2,
   "id": "dd856ac0-3cac-481d-ba29-6bf76d982340",
   "metadata": {},
   "outputs": [],
   "source": [
    "# Extracted sequences\n",
    "seq_df = pd.read_csv(\"../data/extracted_sequences.csv\")\n",
    "\n",
    "# Delhi environmental data\n",
    "env_df = pd.read_csv(\"../data/delhi_env_1960_2024.csv\")"
   ]
  },
  {
   "cell_type": "code",
   "execution_count": 3,
   "id": "23b72221-2ffe-42c3-a40f-b8c1e43fff7c",
   "metadata": {},
   "outputs": [
    {
     "data": {
      "text/html": [
       "<div>\n",
       "<style scoped>\n",
       "    .dataframe tbody tr th:only-of-type {\n",
       "        vertical-align: middle;\n",
       "    }\n",
       "\n",
       "    .dataframe tbody tr th {\n",
       "        vertical-align: top;\n",
       "    }\n",
       "\n",
       "    .dataframe thead th {\n",
       "        text-align: right;\n",
       "    }\n",
       "</style>\n",
       "<table border=\"1\" class=\"dataframe\">\n",
       "  <thead>\n",
       "    <tr style=\"text-align: right;\">\n",
       "      <th></th>\n",
       "      <th>Accession</th>\n",
       "      <th>Collection_Year</th>\n",
       "      <th>Combined_Sequence</th>\n",
       "    </tr>\n",
       "  </thead>\n",
       "  <tbody>\n",
       "    <tr>\n",
       "      <th>0</th>\n",
       "      <td>PV554916.1</td>\n",
       "      <td>2024.0</td>\n",
       "      <td>GACAAAGACAGATTCTTTGAGGAAGCTAAGCTTAACGTAGTTCTAA...</td>\n",
       "    </tr>\n",
       "    <tr>\n",
       "      <th>1</th>\n",
       "      <td>PV554917.1</td>\n",
       "      <td>2024.0</td>\n",
       "      <td>GACAAAGACAGATTCTTTGAGGAAGCTAAGCTTAACGTAGTTCTAA...</td>\n",
       "    </tr>\n",
       "    <tr>\n",
       "      <th>2</th>\n",
       "      <td>PV554918.1</td>\n",
       "      <td>2024.0</td>\n",
       "      <td>CCGACAAAGACAGATTCTTTGAGGAAGCTAAGCTTAACGTAGTTCT...</td>\n",
       "    </tr>\n",
       "    <tr>\n",
       "      <th>3</th>\n",
       "      <td>PV554919.1</td>\n",
       "      <td>2024.0</td>\n",
       "      <td>GACAAGAACAGTTTCGACTCGGAAGCTTGCTTAACGTAGTGCTAAC...</td>\n",
       "    </tr>\n",
       "    <tr>\n",
       "      <th>4</th>\n",
       "      <td>PV554920.1</td>\n",
       "      <td>2024.0</td>\n",
       "      <td>GACAAAGACAGATTCTTTGAGGAAGCTAAGCTTAACGTAGTTCTAA...</td>\n",
       "    </tr>\n",
       "  </tbody>\n",
       "</table>\n",
       "</div>"
      ],
      "text/plain": [
       "    Accession  Collection_Year  \\\n",
       "0  PV554916.1           2024.0   \n",
       "1  PV554917.1           2024.0   \n",
       "2  PV554918.1           2024.0   \n",
       "3  PV554919.1           2024.0   \n",
       "4  PV554920.1           2024.0   \n",
       "\n",
       "                                   Combined_Sequence  \n",
       "0  GACAAAGACAGATTCTTTGAGGAAGCTAAGCTTAACGTAGTTCTAA...  \n",
       "1  GACAAAGACAGATTCTTTGAGGAAGCTAAGCTTAACGTAGTTCTAA...  \n",
       "2  CCGACAAAGACAGATTCTTTGAGGAAGCTAAGCTTAACGTAGTTCT...  \n",
       "3  GACAAGAACAGTTTCGACTCGGAAGCTTGCTTAACGTAGTGCTAAC...  \n",
       "4  GACAAAGACAGATTCTTTGAGGAAGCTAAGCTTAACGTAGTTCTAA...  "
      ]
     },
     "execution_count": 3,
     "metadata": {},
     "output_type": "execute_result"
    }
   ],
   "source": [
    "seq_df.head(5)"
   ]
  },
  {
   "cell_type": "code",
   "execution_count": 4,
   "id": "ba82aafc-75e9-4de3-886b-c5bb5c6fd04a",
   "metadata": {},
   "outputs": [
    {
     "data": {
      "text/html": [
       "<div>\n",
       "<style scoped>\n",
       "    .dataframe tbody tr th:only-of-type {\n",
       "        vertical-align: middle;\n",
       "    }\n",
       "\n",
       "    .dataframe tbody tr th {\n",
       "        vertical-align: top;\n",
       "    }\n",
       "\n",
       "    .dataframe thead th {\n",
       "        text-align: right;\n",
       "    }\n",
       "</style>\n",
       "<table border=\"1\" class=\"dataframe\">\n",
       "  <thead>\n",
       "    <tr style=\"text-align: right;\">\n",
       "      <th></th>\n",
       "      <th>Year</th>\n",
       "      <th>Avg_Temp_C</th>\n",
       "      <th>CO2_Emission_Mt</th>\n",
       "    </tr>\n",
       "  </thead>\n",
       "  <tbody>\n",
       "    <tr>\n",
       "      <th>0</th>\n",
       "      <td>1960</td>\n",
       "      <td>24.10</td>\n",
       "      <td>147.1</td>\n",
       "    </tr>\n",
       "    <tr>\n",
       "      <th>1</th>\n",
       "      <td>1961</td>\n",
       "      <td>24.00</td>\n",
       "      <td>155.7</td>\n",
       "    </tr>\n",
       "    <tr>\n",
       "      <th>2</th>\n",
       "      <td>1962</td>\n",
       "      <td>24.19</td>\n",
       "      <td>214.4</td>\n",
       "    </tr>\n",
       "    <tr>\n",
       "      <th>3</th>\n",
       "      <td>1963</td>\n",
       "      <td>24.40</td>\n",
       "      <td>238.8</td>\n",
       "    </tr>\n",
       "    <tr>\n",
       "      <th>4</th>\n",
       "      <td>1964</td>\n",
       "      <td>24.08</td>\n",
       "      <td>255.8</td>\n",
       "    </tr>\n",
       "  </tbody>\n",
       "</table>\n",
       "</div>"
      ],
      "text/plain": [
       "   Year  Avg_Temp_C  CO2_Emission_Mt\n",
       "0  1960       24.10            147.1\n",
       "1  1961       24.00            155.7\n",
       "2  1962       24.19            214.4\n",
       "3  1963       24.40            238.8\n",
       "4  1964       24.08            255.8"
      ]
     },
     "execution_count": 4,
     "metadata": {},
     "output_type": "execute_result"
    }
   ],
   "source": [
    "env_df.head(5)"
   ]
  },
  {
   "cell_type": "markdown",
   "id": "5defddfd-865a-4c88-bd0e-bdbf53030155",
   "metadata": {},
   "source": [
    "### Prepare columns for merging"
   ]
  },
  {
   "cell_type": "code",
   "execution_count": 5,
   "id": "a260c928-131a-4954-9013-30aaae216516",
   "metadata": {},
   "outputs": [
    {
     "name": "stderr",
     "output_type": "stream",
     "text": [
      "/var/folders/54/hm99kpb1121263j5vgd6zflr0000gn/T/ipykernel_53615/3895176537.py:5: SettingWithCopyWarning: \n",
      "A value is trying to be set on a copy of a slice from a DataFrame.\n",
      "Try using .loc[row_indexer,col_indexer] = value instead\n",
      "\n",
      "See the caveats in the documentation: https://pandas.pydata.org/pandas-docs/stable/user_guide/indexing.html#returning-a-view-versus-a-copy\n",
      "  seq_df[\"Collection_Year\"] = seq_df[\"Collection_Year\"].astype(int)\n"
     ]
    }
   ],
   "source": [
    "# Drop rows with missing Collection_Year\n",
    "seq_df = seq_df.dropna(subset=[\"Collection_Year\"])\n",
    "\n",
    "# Convert Collection_Year to int\n",
    "seq_df[\"Collection_Year\"] = seq_df[\"Collection_Year\"].astype(int)\n",
    "\n",
    "# Rename for merge compatibility\n",
    "env_df = env_df.rename(columns={\"Year\": \"Collection_Year\"})"
   ]
  },
  {
   "cell_type": "code",
   "execution_count": 6,
   "id": "b56d4d13-1fe3-476d-ae07-e4db358fd7d2",
   "metadata": {},
   "outputs": [
    {
     "data": {
      "text/html": [
       "<div>\n",
       "<style scoped>\n",
       "    .dataframe tbody tr th:only-of-type {\n",
       "        vertical-align: middle;\n",
       "    }\n",
       "\n",
       "    .dataframe tbody tr th {\n",
       "        vertical-align: top;\n",
       "    }\n",
       "\n",
       "    .dataframe thead th {\n",
       "        text-align: right;\n",
       "    }\n",
       "</style>\n",
       "<table border=\"1\" class=\"dataframe\">\n",
       "  <thead>\n",
       "    <tr style=\"text-align: right;\">\n",
       "      <th></th>\n",
       "      <th>Accession</th>\n",
       "      <th>Collection_Year</th>\n",
       "      <th>Combined_Sequence</th>\n",
       "    </tr>\n",
       "  </thead>\n",
       "  <tbody>\n",
       "    <tr>\n",
       "      <th>0</th>\n",
       "      <td>PV554916.1</td>\n",
       "      <td>2024</td>\n",
       "      <td>GACAAAGACAGATTCTTTGAGGAAGCTAAGCTTAACGTAGTTCTAA...</td>\n",
       "    </tr>\n",
       "    <tr>\n",
       "      <th>1</th>\n",
       "      <td>PV554917.1</td>\n",
       "      <td>2024</td>\n",
       "      <td>GACAAAGACAGATTCTTTGAGGAAGCTAAGCTTAACGTAGTTCTAA...</td>\n",
       "    </tr>\n",
       "    <tr>\n",
       "      <th>2</th>\n",
       "      <td>PV554918.1</td>\n",
       "      <td>2024</td>\n",
       "      <td>CCGACAAAGACAGATTCTTTGAGGAAGCTAAGCTTAACGTAGTTCT...</td>\n",
       "    </tr>\n",
       "    <tr>\n",
       "      <th>3</th>\n",
       "      <td>PV554919.1</td>\n",
       "      <td>2024</td>\n",
       "      <td>GACAAGAACAGTTTCGACTCGGAAGCTTGCTTAACGTAGTGCTAAC...</td>\n",
       "    </tr>\n",
       "    <tr>\n",
       "      <th>4</th>\n",
       "      <td>PV554920.1</td>\n",
       "      <td>2024</td>\n",
       "      <td>GACAAAGACAGATTCTTTGAGGAAGCTAAGCTTAACGTAGTTCTAA...</td>\n",
       "    </tr>\n",
       "  </tbody>\n",
       "</table>\n",
       "</div>"
      ],
      "text/plain": [
       "    Accession  Collection_Year  \\\n",
       "0  PV554916.1             2024   \n",
       "1  PV554917.1             2024   \n",
       "2  PV554918.1             2024   \n",
       "3  PV554919.1             2024   \n",
       "4  PV554920.1             2024   \n",
       "\n",
       "                                   Combined_Sequence  \n",
       "0  GACAAAGACAGATTCTTTGAGGAAGCTAAGCTTAACGTAGTTCTAA...  \n",
       "1  GACAAAGACAGATTCTTTGAGGAAGCTAAGCTTAACGTAGTTCTAA...  \n",
       "2  CCGACAAAGACAGATTCTTTGAGGAAGCTAAGCTTAACGTAGTTCT...  \n",
       "3  GACAAGAACAGTTTCGACTCGGAAGCTTGCTTAACGTAGTGCTAAC...  \n",
       "4  GACAAAGACAGATTCTTTGAGGAAGCTAAGCTTAACGTAGTTCTAA...  "
      ]
     },
     "execution_count": 6,
     "metadata": {},
     "output_type": "execute_result"
    }
   ],
   "source": [
    "seq_df.head(5)"
   ]
  },
  {
   "cell_type": "code",
   "execution_count": 7,
   "id": "d3816795-2345-416e-acac-050bfa515301",
   "metadata": {},
   "outputs": [
    {
     "data": {
      "text/html": [
       "<div>\n",
       "<style scoped>\n",
       "    .dataframe tbody tr th:only-of-type {\n",
       "        vertical-align: middle;\n",
       "    }\n",
       "\n",
       "    .dataframe tbody tr th {\n",
       "        vertical-align: top;\n",
       "    }\n",
       "\n",
       "    .dataframe thead th {\n",
       "        text-align: right;\n",
       "    }\n",
       "</style>\n",
       "<table border=\"1\" class=\"dataframe\">\n",
       "  <thead>\n",
       "    <tr style=\"text-align: right;\">\n",
       "      <th></th>\n",
       "      <th>Collection_Year</th>\n",
       "      <th>Avg_Temp_C</th>\n",
       "      <th>CO2_Emission_Mt</th>\n",
       "    </tr>\n",
       "  </thead>\n",
       "  <tbody>\n",
       "    <tr>\n",
       "      <th>0</th>\n",
       "      <td>1960</td>\n",
       "      <td>24.10</td>\n",
       "      <td>147.1</td>\n",
       "    </tr>\n",
       "    <tr>\n",
       "      <th>1</th>\n",
       "      <td>1961</td>\n",
       "      <td>24.00</td>\n",
       "      <td>155.7</td>\n",
       "    </tr>\n",
       "    <tr>\n",
       "      <th>2</th>\n",
       "      <td>1962</td>\n",
       "      <td>24.19</td>\n",
       "      <td>214.4</td>\n",
       "    </tr>\n",
       "    <tr>\n",
       "      <th>3</th>\n",
       "      <td>1963</td>\n",
       "      <td>24.40</td>\n",
       "      <td>238.8</td>\n",
       "    </tr>\n",
       "    <tr>\n",
       "      <th>4</th>\n",
       "      <td>1964</td>\n",
       "      <td>24.08</td>\n",
       "      <td>255.8</td>\n",
       "    </tr>\n",
       "  </tbody>\n",
       "</table>\n",
       "</div>"
      ],
      "text/plain": [
       "   Collection_Year  Avg_Temp_C  CO2_Emission_Mt\n",
       "0             1960       24.10            147.1\n",
       "1             1961       24.00            155.7\n",
       "2             1962       24.19            214.4\n",
       "3             1963       24.40            238.8\n",
       "4             1964       24.08            255.8"
      ]
     },
     "execution_count": 7,
     "metadata": {},
     "output_type": "execute_result"
    }
   ],
   "source": [
    "env_df.head(5)"
   ]
  },
  {
   "cell_type": "markdown",
   "id": "6791f0d0-a12e-4387-8852-efa8a4bc18bd",
   "metadata": {},
   "source": [
    "### Merge datasets"
   ]
  },
  {
   "cell_type": "code",
   "execution_count": 8,
   "id": "61fd2420-0328-433a-82fa-35aee35d02f6",
   "metadata": {},
   "outputs": [
    {
     "name": "stdout",
     "output_type": "stream",
     "text": [
      "Merged dataset shape: (395, 5)\n"
     ]
    },
    {
     "data": {
      "text/html": [
       "<div>\n",
       "<style scoped>\n",
       "    .dataframe tbody tr th:only-of-type {\n",
       "        vertical-align: middle;\n",
       "    }\n",
       "\n",
       "    .dataframe tbody tr th {\n",
       "        vertical-align: top;\n",
       "    }\n",
       "\n",
       "    .dataframe thead th {\n",
       "        text-align: right;\n",
       "    }\n",
       "</style>\n",
       "<table border=\"1\" class=\"dataframe\">\n",
       "  <thead>\n",
       "    <tr style=\"text-align: right;\">\n",
       "      <th></th>\n",
       "      <th>Accession</th>\n",
       "      <th>Collection_Year</th>\n",
       "      <th>Combined_Sequence</th>\n",
       "      <th>Avg_Temp_C</th>\n",
       "      <th>CO2_Emission_Mt</th>\n",
       "    </tr>\n",
       "  </thead>\n",
       "  <tbody>\n",
       "    <tr>\n",
       "      <th>0</th>\n",
       "      <td>PV554916.1</td>\n",
       "      <td>2024</td>\n",
       "      <td>GACAAAGACAGATTCTTTGAGGAAGCTAAGCTTAACGTAGTTCTAA...</td>\n",
       "      <td>26.16</td>\n",
       "      <td>2489.9</td>\n",
       "    </tr>\n",
       "    <tr>\n",
       "      <th>1</th>\n",
       "      <td>PV554917.1</td>\n",
       "      <td>2024</td>\n",
       "      <td>GACAAAGACAGATTCTTTGAGGAAGCTAAGCTTAACGTAGTTCTAA...</td>\n",
       "      <td>26.16</td>\n",
       "      <td>2489.9</td>\n",
       "    </tr>\n",
       "    <tr>\n",
       "      <th>2</th>\n",
       "      <td>PV554918.1</td>\n",
       "      <td>2024</td>\n",
       "      <td>CCGACAAAGACAGATTCTTTGAGGAAGCTAAGCTTAACGTAGTTCT...</td>\n",
       "      <td>26.16</td>\n",
       "      <td>2489.9</td>\n",
       "    </tr>\n",
       "    <tr>\n",
       "      <th>3</th>\n",
       "      <td>PV554919.1</td>\n",
       "      <td>2024</td>\n",
       "      <td>GACAAGAACAGTTTCGACTCGGAAGCTTGCTTAACGTAGTGCTAAC...</td>\n",
       "      <td>26.16</td>\n",
       "      <td>2489.9</td>\n",
       "    </tr>\n",
       "    <tr>\n",
       "      <th>4</th>\n",
       "      <td>PV554920.1</td>\n",
       "      <td>2024</td>\n",
       "      <td>GACAAAGACAGATTCTTTGAGGAAGCTAAGCTTAACGTAGTTCTAA...</td>\n",
       "      <td>26.16</td>\n",
       "      <td>2489.9</td>\n",
       "    </tr>\n",
       "  </tbody>\n",
       "</table>\n",
       "</div>"
      ],
      "text/plain": [
       "    Accession  Collection_Year  \\\n",
       "0  PV554916.1             2024   \n",
       "1  PV554917.1             2024   \n",
       "2  PV554918.1             2024   \n",
       "3  PV554919.1             2024   \n",
       "4  PV554920.1             2024   \n",
       "\n",
       "                                   Combined_Sequence  Avg_Temp_C  \\\n",
       "0  GACAAAGACAGATTCTTTGAGGAAGCTAAGCTTAACGTAGTTCTAA...       26.16   \n",
       "1  GACAAAGACAGATTCTTTGAGGAAGCTAAGCTTAACGTAGTTCTAA...       26.16   \n",
       "2  CCGACAAAGACAGATTCTTTGAGGAAGCTAAGCTTAACGTAGTTCT...       26.16   \n",
       "3  GACAAGAACAGTTTCGACTCGGAAGCTTGCTTAACGTAGTGCTAAC...       26.16   \n",
       "4  GACAAAGACAGATTCTTTGAGGAAGCTAAGCTTAACGTAGTTCTAA...       26.16   \n",
       "\n",
       "   CO2_Emission_Mt  \n",
       "0           2489.9  \n",
       "1           2489.9  \n",
       "2           2489.9  \n",
       "3           2489.9  \n",
       "4           2489.9  "
      ]
     },
     "execution_count": 8,
     "metadata": {},
     "output_type": "execute_result"
    }
   ],
   "source": [
    "merged_df = pd.merge(seq_df, env_df, on=\"Collection_Year\", how=\"inner\")\n",
    "print(f\"Merged dataset shape: {merged_df.shape}\")\n",
    "merged_df.head()"
   ]
  },
  {
   "cell_type": "markdown",
   "id": "31928caa-4bb4-444d-b47f-792f27dd47c2",
   "metadata": {},
   "source": [
    "### Save combined dataset"
   ]
  },
  {
   "cell_type": "code",
   "execution_count": 9,
   "id": "2170e255-c4f8-4e9d-a75d-ca5e8f7fc515",
   "metadata": {},
   "outputs": [
    {
     "name": "stdout",
     "output_type": "stream",
     "text": [
      "Combined dataset saved to ../data/combined_dataset.csv\n"
     ]
    }
   ],
   "source": [
    "merged_df.to_csv(\"../data/combined_dataset.csv\", index=False)\n",
    "print(\"Combined dataset saved to ../data/combined_dataset.csv\")"
   ]
  }
 ],
 "metadata": {
  "kernelspec": {
   "display_name": "Python 3 (ipykernel)",
   "language": "python",
   "name": "python3"
  },
  "language_info": {
   "codemirror_mode": {
    "name": "ipython",
    "version": 3
   },
   "file_extension": ".py",
   "mimetype": "text/x-python",
   "name": "python",
   "nbconvert_exporter": "python",
   "pygments_lexer": "ipython3",
   "version": "3.12.4"
  }
 },
 "nbformat": 4,
 "nbformat_minor": 5
}
